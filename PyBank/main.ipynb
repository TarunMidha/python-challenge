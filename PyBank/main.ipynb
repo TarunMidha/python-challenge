{
 "cells": [
  {
   "cell_type": "code",
   "execution_count": 1,
   "id": "26ecfab8-d91f-4da8-83cf-4ec36c615567",
   "metadata": {},
   "outputs": [],
   "source": [
    "import csv"
   ]
  },
  {
   "cell_type": "code",
   "execution_count": 2,
   "id": "884055dc-52e9-4a23-8ecb-5e23fd0aea0d",
   "metadata": {},
   "outputs": [],
   "source": [
    "file = \"/Users/tarunmidha/Desktop/UofTBootCamp/python-challenge/PyBank/Resources/budget_data.csv\""
   ]
  },
  {
   "cell_type": "code",
   "execution_count": 118,
   "id": "1667a219-3535-418f-bd9c-71e69e2ff063",
   "metadata": {},
   "outputs": [],
   "source": [
    "total_months = 0\n",
    "prev_profits = 0\n",
    "month_of_change = []\n",
    "profit_change_list = []\n",
    "greatest_inc = [\"\", 0]\n",
    "greatest_dec = [\"\", 0]\n",
    "total_profit = 0\n"
   ]
  },
  {
   "cell_type": "code",
   "execution_count": 119,
   "id": "19693474-4729-4178-ba34-0aa5e9d1d02f",
   "metadata": {},
   "outputs": [],
   "source": [
    "# Read the csv and convert it into a list of dictionaries\n",
    "with open(file) as budget_data:\n",
    "    reader = csv.DictReader(budget_data)\n",
    "    \n",
    "    for row in reader:\n",
    "\n",
    "        # Calculate Total Months and Profits\n",
    "        total_months += 1\n",
    "        total_profit += int(row[\"Profit/Losses\"])\n",
    "        \n",
    "\n",
    "        # Calculate the profit change and average change\n",
    "        profit_change = int(row[\"Profit/Losses\"]) - prev_profits\n",
    "        prev_profits = int(row[\"Profit/Losses\"])\n",
    "        profit_change_list += [profit_change]\n",
    "        month_of_change += [row[\"Date\"]]\n",
    "\n",
    "        # Calculate the greatest increase\n",
    "        if (profit_change > greatest_inc[1]):\n",
    "            greatest_inc[0] = row[\"Date\"]\n",
    "            greatest_inc[1] = profit_change\n",
    "\n",
    "        # Calculate the greatest decrease\n",
    "        if (profit_change < greatest_dec[1]):\n",
    "            greatest_dec[0] = row[\"Date\"]\n",
    "            greatest_dec[1] = profit_change\n",
    "\n",
    "# Remove the first element of the list\n",
    "\n",
    "profit_change_list.pop(0)\n",
    "\n",
    "#print(profit_change_list) // testing the list \n",
    "\n",
    "# Calculate the Average profit Change\n",
    "change_avg = round((sum(profit_change_list) / (len(month_of_change) - 1)),2)\n",
    "\n"
   ]
  },
  {
   "cell_type": "code",
   "execution_count": 120,
   "id": "e463ca89-6953-4429-8eb9-9ca38f9ad606",
   "metadata": {},
   "outputs": [
    {
     "name": "stdout",
     "output_type": "stream",
     "text": [
      "\n",
      "Financial Analysis\n",
      "----------------------------\n",
      "Total Months: 86\n",
      "Total: $38382578\n",
      "Average Change: $-2315.12\n",
      "Greatest Increase in Profits: Feb-2012 ($1926159)\n",
      "Greatest Decrease in Profits: Sep-2013 ($-2196167)\n",
      "\n"
     ]
    }
   ],
   "source": [
    "# Generate Output Summary\n",
    "output = (\n",
    "    f\"\\nFinancial Analysis\\n\"\n",
    "    f\"----------------------------\\n\"\n",
    "    f\"Total Months: {total_months}\\n\"\n",
    "    f\"Total: ${total_profit}\\n\"\n",
    "    f\"Average Change: ${change_avg}\\n\"\n",
    "    f\"Greatest Increase in Profits: {greatest_inc[0]} (${greatest_inc[1]})\\n\"\n",
    "    f\"Greatest Decrease in Profits: {greatest_dec[0]} (${greatest_dec[1]})\\n\")\n",
    "\n",
    "# Print the output\n",
    "print(output)"
   ]
  },
  {
   "cell_type": "code",
   "execution_count": 117,
   "id": "777ef132-891c-4e59-a279-10f2f9a57f6e",
   "metadata": {},
   "outputs": [],
   "source": [
    "f = open(\"analysis.txt\", \"a\")\n",
    "print(output, file=f)\n",
    "f.close()"
   ]
  },
  {
   "cell_type": "code",
   "execution_count": null,
   "id": "7d18d8c0-7870-49fd-b16b-304337d3bffd",
   "metadata": {},
   "outputs": [],
   "source": []
  }
 ],
 "metadata": {
  "kernelspec": {
   "display_name": "Python 3 (ipykernel)",
   "language": "python",
   "name": "python3"
  },
  "language_info": {
   "codemirror_mode": {
    "name": "ipython",
    "version": 3
   },
   "file_extension": ".py",
   "mimetype": "text/x-python",
   "name": "python",
   "nbconvert_exporter": "python",
   "pygments_lexer": "ipython3",
   "version": "3.7.13"
  }
 },
 "nbformat": 4,
 "nbformat_minor": 5
}
